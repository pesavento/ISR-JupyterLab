{
 "cells": [
  {
   "cell_type": "markdown",
   "id": "bc66ad63-3fbf-43d6-b0ef-0ebd87f99ce3",
   "metadata": {},
   "source": [
    "Run HTML in a notebook."
   ]
  },
  {
   "cell_type": "code",
   "execution_count": null,
   "id": "0139a58e-463e-40f1-9396-570b55f25288",
   "metadata": {},
   "outputs": [],
   "source": [
    "from IPython.core.display import HTML\n",
    "\n",
    "HTML(\"\"\"\n",
    "<div>\n",
    "    <video width=400 controls=\"controls\">\n",
    "        <source src=\"assets/video/ex1.mp4\" type=\"video/mp4\">\n",
    "    </video>\n",
    "    <video width=400 controls=\"controls\">\n",
    "        <source src=\"assets/video/ex2.mp4\" type=\"video/mp4\">\n",
    "    </video>\n",
    "</div>\n",
    "\"\"\")"
   ]
  },
  {
   "cell_type": "markdown",
   "id": "c2c8045e-ee31-46e0-899e-9c756bfb712b",
   "metadata": {},
   "source": [
    "Create a VideoCapture object from an Ocean Exploration Challenge video clip and operate (level adjust and blur) on each frame of the video.\n",
    "The VideoCapture object will have 9000 frames (5m x 60sec/m x 30fps), or 2,073,600,000 RGB pixels (640 x 360 x 9000). That's a lot of operations."
   ]
  },
  {
   "cell_type": "markdown",
   "id": "74aaf604-22ba-427e-b615-cf96a139e086",
   "metadata": {},
   "source": [
    "Operate on the original color video clip."
   ]
  },
  {
   "cell_type": "code",
   "execution_count": null,
   "id": "004feb32-b8cc-4088-ae4c-89719e3fb3e4",
   "metadata": {},
   "outputs": [],
   "source": [
    "import cv2\n",
    "import numpy as np\n",
    "\n",
    "# create a VideoCapture object\n",
    "cap = cv2.VideoCapture('assets/video/ex1.mp4')\n",
    "\n",
    "# loop until the end of the video\n",
    "while (cap.isOpened()):\n",
    "\n",
    "    # capture the video frame-by-frame\n",
    "    ret, frame = cap.read()\n",
    "    \n",
    "    # adjust the image levels\n",
    "    frame_adj = cv2.convertScaleAbs(frame, alpha=1.95, beta=0)   # 1-3, 0-100\n",
    "    \n",
    "    # blur the image\n",
    "    frame_blur = cv2.GaussianBlur(frame_adj, (9,9), 0)\n",
    "    \n",
    "    # display the frame\n",
    "    #cv2.imshow('my video', frame_adj)\n",
    "    cv2.imshow('my video', frame_blur)\n",
    "    \n",
    "    if cv2.waitKey(1) & 0xFF == ord('q'):\n",
    "        break\n",
    "        \n",
    "cap.release()\n",
    "cv2.destroyAllWindows()  "
   ]
  },
  {
   "cell_type": "markdown",
   "id": "9aebef98-a9d1-4d1e-acc4-ff18697779ea",
   "metadata": {},
   "source": [
    "Operate on a grayscale conversion of the original color video clip."
   ]
  },
  {
   "cell_type": "code",
   "execution_count": null,
   "id": "f71deb41-23f1-4bad-94f4-b9524fdcf748",
   "metadata": {},
   "outputs": [],
   "source": [
    "import cv2\n",
    "import numpy as np\n",
    "\n",
    "# create a VideoCapture object\n",
    "cap = cv2.VideoCapture('assets/video/ex1.mp4')\n",
    "\n",
    "# loop until the end of the video\n",
    "while (cap.isOpened()):\n",
    "\n",
    "    # capture the video frame-by-frame\n",
    "    ret, frame = cap.read()\n",
    "    \n",
    "    gray = cv2.cvtColor(frame, cv2.COLOR_BGR2GRAY)\n",
    "    \n",
    "    # adjust the image levels\n",
    "    gray_adj = cv2.convertScaleAbs(gray, alpha=1.95, beta=0)\n",
    "    \n",
    "    # blur the image\n",
    "    gray_blur = cv2.GaussianBlur(gray_adj, (9,9), 0)\n",
    "    \n",
    "    # display the frame\n",
    "    #cv2.imshow('my video', gray_adj)\n",
    "    cv2.imshow('my video', gray_blur)\n",
    "    \n",
    "    if cv2.waitKey(1) & 0xFF == ord('q'):\n",
    "        break\n",
    "        \n",
    "cap.release()\n",
    "cv2.destroyAllWindows()"
   ]
  },
  {
   "cell_type": "code",
   "execution_count": null,
   "id": "983e3155-a7e4-42cc-ad58-95dfbaf960ed",
   "metadata": {},
   "outputs": [],
   "source": []
  }
 ],
 "metadata": {
  "kernelspec": {
   "display_name": "Python 3 (ipykernel)",
   "language": "python",
   "name": "python3"
  },
  "language_info": {
   "codemirror_mode": {
    "name": "ipython",
    "version": 3
   },
   "file_extension": ".py",
   "mimetype": "text/x-python",
   "name": "python",
   "nbconvert_exporter": "python",
   "pygments_lexer": "ipython3",
   "version": "3.9.12"
  }
 },
 "nbformat": 4,
 "nbformat_minor": 5
}
