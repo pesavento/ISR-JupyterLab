{
 "cells": [
  {
   "cell_type": "markdown",
   "id": "144175da",
   "metadata": {},
   "source": [
    "**OpenCV Introduction**  \n",
    "OpenCV (Open Source Computer Vision library) is a tool for performing computer vision, machine learning, and image processing tasks."
   ]
  },
  {
   "cell_type": "code",
   "execution_count": 1,
   "id": "63a12d7b-025c-46bc-af3b-cd30d1aaa237",
   "metadata": {
    "tags": []
   },
   "outputs": [
    {
     "name": "stdout",
     "output_type": "stream",
     "text": [
      "OpenCV version 4.5.4\n"
     ]
    }
   ],
   "source": [
    "import cv2\n",
    "print(\"OpenCV version\", cv2.__version__)"
   ]
  },
  {
   "cell_type": "markdown",
   "id": "cf51dcf6-2d1f-4135-97ce-94c51c5d66ee",
   "metadata": {},
   "source": [
    "**cv2.imread** method  \n",
    "Syntax: cv2.imread(path, flag)  \n",
    "flags:  \n",
    "cv2.IMREAD_COLOR (default): Used to read the image as an RGB image. It ignores the alpha channel (if present). You can also specify 1 for this flag.  \n",
    "cv2.IMREAD_GRAYSCALE: Used to read the image as grayscale. You can also specify 0 for this flag.  \n",
    "cv2.IMREAD_UNCHANGED: Used to read the image as it is. It does not make any changes or ignore anything from the image. You can also specify -1 for this flag."
   ]
  },
  {
   "cell_type": "code",
   "execution_count": 2,
   "id": "0eaa1435",
   "metadata": {},
   "outputs": [],
   "source": [
    "# load an image\n",
    "img = cv2.imread('assets/0922-1.tiff')"
   ]
  },
  {
   "cell_type": "code",
   "execution_count": 3,
   "id": "8c69f49e-4d9a-4aef-9062-820df360410f",
   "metadata": {
    "tags": []
   },
   "outputs": [
    {
     "data": {
      "text/plain": [
       "-1"
      ]
     },
     "execution_count": 3,
     "metadata": {},
     "output_type": "execute_result"
    }
   ],
   "source": [
    "# display an image\n",
    "cv2.imshow('My Image', img)\n",
    "cv2.waitKey(0)   # 0 = wait (forever) until a key is pressed\n",
    "cv2.destroyAllWindows()\n",
    "cv2.waitKey(1)"
   ]
  },
  {
   "cell_type": "code",
   "execution_count": 4,
   "id": "41ca6bd7",
   "metadata": {},
   "outputs": [
    {
     "name": "stdout",
     "output_type": "stream",
     "text": [
      "dimensions = (360, 640, 3)\n"
     ]
    }
   ],
   "source": [
    "# print the image array dimensions (height, width, number of color channels)\n",
    "print('dimensions =', img.shape)"
   ]
  },
  {
   "cell_type": "code",
   "execution_count": 5,
   "id": "f3219f73-1af3-4968-bd7d-d0ce33c275d7",
   "metadata": {},
   "outputs": [
    {
     "name": "stdout",
     "output_type": "stream",
     "text": [
      "height = 360,  width = 640\n"
     ]
    }
   ],
   "source": [
    "# print the height and width\n",
    "h, w = img.shape[:2]\n",
    "print(\"height = {},  width = {}\".format(h, w))"
   ]
  },
  {
   "cell_type": "code",
   "execution_count": 6,
   "id": "0ebf4587",
   "metadata": {},
   "outputs": [
    {
     "data": {
      "text/plain": [
       "-1"
      ]
     },
     "execution_count": 6,
     "metadata": {},
     "output_type": "execute_result"
    }
   ],
   "source": [
    "# resize an image to any dimension\n",
    "img_new = cv2.resize(img, (200, 200))   # source, dsize (width, height)\n",
    "cv2.imshow('My Image', img_new)\n",
    "cv2.waitKey(0); cv2.destroyAllWindows(); cv2.waitKey(1)"
   ]
  },
  {
   "cell_type": "code",
   "execution_count": 7,
   "id": "da2de003",
   "metadata": {},
   "outputs": [
    {
     "data": {
      "text/plain": [
       "-1"
      ]
     },
     "execution_count": 7,
     "metadata": {},
     "output_type": "execute_result"
    }
   ],
   "source": [
    "# scale an image using the dsize parameter\n",
    "width = int(img.shape[1] * 1.5)\n",
    "height = int(img.shape[0] * 1.5)\n",
    "img_new = cv2.resize(img, (width, height))\n",
    "cv2.imshow('My Image', img_new)\n",
    "cv2.waitKey(0); cv2.destroyAllWindows(); cv2.waitKey(1)"
   ]
  },
  {
   "cell_type": "code",
   "execution_count": 8,
   "id": "f3ddf8f7",
   "metadata": {},
   "outputs": [
    {
     "data": {
      "text/plain": [
       "-1"
      ]
     },
     "execution_count": 8,
     "metadata": {},
     "output_type": "execute_result"
    }
   ],
   "source": [
    "# scale an image using the scale factor parameters\n",
    "img_new = cv2.resize(img, (0, 0), fx=2, fy=2)\n",
    "cv2.imshow('My Image', img_new)\n",
    "cv2.waitKey(0); cv2.destroyAllWindows(); cv2.waitKey(1)"
   ]
  },
  {
   "cell_type": "code",
   "execution_count": 9,
   "id": "2d5c7c40",
   "metadata": {},
   "outputs": [
    {
     "data": {
      "text/plain": [
       "-1"
      ]
     },
     "execution_count": 9,
     "metadata": {},
     "output_type": "execute_result"
    }
   ],
   "source": [
    "# rotate an image\n",
    "img_new = cv2.rotate(img, cv2.ROTATE_180)   # ROTATE_90_CLOCKWISE, ROTATE_180, ROTATE_90_COUNTERCLOCKWISE\n",
    "cv2.imshow('My Image', img_new)\n",
    "cv2.waitKey(0); cv2.destroyAllWindows(); cv2.waitKey(1)"
   ]
  },
  {
   "cell_type": "code",
   "execution_count": 17,
   "id": "5906f457",
   "metadata": {},
   "outputs": [
    {
     "data": {
      "text/plain": [
       "-1"
      ]
     },
     "execution_count": 17,
     "metadata": {},
     "output_type": "execute_result"
    }
   ],
   "source": [
    "# flip an image\n",
    "img_new = cv2.flip(img, 1)   # 0 = vertical, 1 = horizontal\n",
    "cv2.imshow('My Image', img_new)\n",
    "cv2.waitKey(0); cv2.destroyAllWindows(); cv2.waitKey(1)"
   ]
  },
  {
   "cell_type": "code",
   "execution_count": 11,
   "id": "f7dddf3e",
   "metadata": {},
   "outputs": [
    {
     "data": {
      "text/plain": [
       "True"
      ]
     },
     "execution_count": 11,
     "metadata": {},
     "output_type": "execute_result"
    }
   ],
   "source": [
    "cv2.imwrite('assets/img_flip.jpg', img_new)"
   ]
  },
  {
   "cell_type": "code",
   "execution_count": 21,
   "id": "40eed232-38d2-4dec-87ec-8e8eef2f0ae5",
   "metadata": {},
   "outputs": [
    {
     "data": {
      "text/plain": [
       "-1"
      ]
     },
     "execution_count": 21,
     "metadata": {},
     "output_type": "execute_result"
    }
   ],
   "source": [
    "# adjust the brightness and contrast of an image\n",
    "alpha = 1.95   # contrast control (1.0-3.0)\n",
    "beta = 0   # brightness control (0-100)\n",
    "img_adjust = cv2.convertScaleAbs(img, alpha=alpha, beta=beta)\n",
    "cv2.imshow('My Image', img_adjust)\n",
    "cv2.waitKey(0); cv2.destroyAllWindows(); cv2.waitKey(1)"
   ]
  },
  {
   "cell_type": "code",
   "execution_count": 22,
   "id": "59df3c28-232a-4546-a990-150194a0e8b0",
   "metadata": {},
   "outputs": [
    {
     "data": {
      "text/plain": [
       "True"
      ]
     },
     "execution_count": 22,
     "metadata": {},
     "output_type": "execute_result"
    }
   ],
   "source": [
    "cv2.imwrite('assets/img.jpg', img)\n",
    "cv2.imwrite('assets/img_adjust.jpg', img_adjust)\n",
    "cv2.imwrite('assets/0922-1-new.tiff', img_adjust)"
   ]
  },
  {
   "cell_type": "code",
   "execution_count": null,
   "id": "8c6738af-ef5f-44aa-889d-bc3a9da9f50d",
   "metadata": {},
   "outputs": [],
   "source": []
  }
 ],
 "metadata": {
  "kernelspec": {
   "display_name": "Python 3 (ipykernel)",
   "language": "python",
   "name": "python3"
  },
  "language_info": {
   "codemirror_mode": {
    "name": "ipython",
    "version": 3
   },
   "file_extension": ".py",
   "mimetype": "text/x-python",
   "name": "python",
   "nbconvert_exporter": "python",
   "pygments_lexer": "ipython3",
   "version": "3.9.12"
  }
 },
 "nbformat": 4,
 "nbformat_minor": 5
}
